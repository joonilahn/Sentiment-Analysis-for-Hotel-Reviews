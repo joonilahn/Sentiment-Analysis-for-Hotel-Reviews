{
 "cells": [
  {
   "cell_type": "markdown",
   "metadata": {},
   "source": [
    "# Sentiment Analysis for Hotel Reviews"
   ]
  },
  {
   "cell_type": "markdown",
   "metadata": {},
   "source": [
    "## Overview\n",
    "This project is analyzing sentiment in hotel reviews using **Mutual Information** and **Vader Sentiment Analyzer**. We crawl hotel review data from Trip Advisor website by using a python script which can be downloaded at [here](https://github.com/aesuli/trip-advisor-crawler).\n",
    "\n",
    "We use **Vader sentiment analyzer, Mutual Information and Point-wise Mutual Information** to discover the relation between those metrics and ground-truth rating scores."
   ]
  },
  {
   "cell_type": "markdown",
   "metadata": {},
   "source": [
    "## What we are going to do\n",
    "\n",
    "1. Crawl hotel review data from Trip Advisor by using a python script ([click](https://github.com/aesuli/trip-advisor-crawler) to see how to use the script)\n",
    "\n",
    "2. Read the data (.csv format) into **pandas dataframe**\n",
    "\n",
    "3. Use **Vader sentiment analyzer****bag-of-words model** (unigram)\n",
    "\n",
    "4. Calculate **word frequency**, **mutual information** and **pointwise mutual information** for the unigrams to see how they relate with the review scores\n",
    "\n",
    "5. **Visualize** the distribution of the ground-truth scores and Vader scores\n",
    "6. Discuss"
   ]
  },
  {
   "cell_type": "markdown",
   "metadata": {},
   "source": [
    "### Install and import the packages"
   ]
  },
  {
   "cell_type": "code",
   "execution_count": 1,
   "metadata": {},
   "outputs": [
    {
     "name": "stdout",
     "output_type": "stream",
     "text": [
      "[nltk_data] Downloading package vader_lexicon to\n",
      "[nltk_data]     /Users/Joonil/nltk_data...\n",
      "[nltk_data]   Package vader_lexicon is already up-to-date!\n",
      "[nltk_data] Downloading package stopwords to\n",
      "[nltk_data]     /Users/Joonil/nltk_data...\n",
      "[nltk_data]   Package stopwords is already up-to-date!\n"
     ]
    },
    {
     "data": {
      "text/plain": [
       "True"
      ]
     },
     "execution_count": 1,
     "metadata": {},
     "output_type": "execute_result"
    }
   ],
   "source": [
    "#Download required ntlk packages and lib\n",
    "import nltk\n",
    "nltk.download(\"vader_lexicon\")\n",
    "nltk.download(\"stopwords\")"
   ]
  },
  {
   "cell_type": "code",
   "execution_count": 2,
   "metadata": {},
   "outputs": [
    {
     "name": "stderr",
     "output_type": "stream",
     "text": [
      "/Users/Joonil/anaconda/envs/pytorch/lib/python3.6/site-packages/nltk/twitter/__init__.py:20: UserWarning: The twython library has not been installed. Some functionality from the twitter package will not be available.\n",
      "  warnings.warn(\"The twython library has not been installed. \"\n"
     ]
    }
   ],
   "source": [
    "from nltk.sentiment import SentimentAnalyzer\n",
    "from nltk.sentiment.vader import SentimentIntensityAnalyzer\n",
    "from nltk.sentiment.util import *\n",
    "from nltk import tokenize\n",
    "from nltk.corpus import stopwords\n",
    "import pandas as pd\n",
    "import numpy as np\n",
    "from collections import Counter\n",
    "import re\n",
    "import math\n",
    "import html\n",
    "import sklearn\n",
    "import sklearn.metrics as metrics\n",
    "from sklearn.metrics import mutual_info_score\n",
    "import matplotlib.pyplot as plt\n",
    "import seaborn as sns\n",
    "\n",
    "%matplotlib inline"
   ]
  },
  {
   "cell_type": "markdown",
   "metadata": {},
   "source": [
    "### Test the Vader analyzer"
   ]
  },
  {
   "cell_type": "code",
   "execution_count": 3,
   "metadata": {
    "collapsed": true
   },
   "outputs": [],
   "source": [
    "#Sentences to try with vader\n",
    "sentences = [\"VADER is smart, handsome, and funny.\",\n",
    "             \"Data Scientists are sexy!\",\n",
    "             \"The room was dirty and small\",\n",
    "             \"They had excellent facilities!\",\n",
    "             \"This hotel is the worst hotel in the city\"]"
   ]
  },
  {
   "cell_type": "code",
   "execution_count": 4,
   "metadata": {
    "collapsed": true
   },
   "outputs": [],
   "source": [
    "#Instantiate an instance to access SentimentIntensityAnalyzer class\n",
    "sid = SentimentIntensityAnalyzer()"
   ]
  },
  {
   "cell_type": "code",
   "execution_count": 5,
   "metadata": {},
   "outputs": [
    {
     "name": "stdout",
     "output_type": "stream",
     "text": [
      "VADER is smart, handsome, and funny.\n",
      "compound: 0.8316, neg: 0.0, neu: 0.254, pos: 0.746, \n",
      "\n",
      "Data Scientists are sexy!\n",
      "compound: 0.5707, neg: 0.0, neu: 0.448, pos: 0.552, \n",
      "\n",
      "The room was dirty and small\n",
      "compound: -0.4404, neg: 0.367, neu: 0.633, pos: 0.0, \n",
      "\n",
      "They had excellent facilities!\n",
      "compound: 0.6114, neg: 0.0, neu: 0.429, pos: 0.571, \n",
      "\n",
      "This hotel is the worst hotel in the city\n",
      "compound: -0.6249, neg: 0.339, neu: 0.661, pos: 0.0, \n",
      "\n"
     ]
    }
   ],
   "source": [
    "#Vader output\n",
    "for sentence in sentences:\n",
    "    print(sentence)\n",
    "    ss = sid.polarity_scores(sentence)\n",
    "    for k in sorted(ss):\n",
    "         print('{0}: {1}, '.format(k, ss[k]), end='')\n",
    "    print('\\n')"
   ]
  },
  {
   "cell_type": "markdown",
   "metadata": {},
   "source": [
    "It can be seen from the previous examples that **Vader sentiment analyzer** does good job in identifying polarity of the sentences and give us **compound** score which is in range of [-1, 1]. As compound is close to +1.0, the sentence has positive words and mood."
   ]
  },
  {
   "cell_type": "markdown",
   "metadata": {},
   "source": [
    "## Let's read the .csv data we scrapped from Trip Advisor"
   ]
  },
  {
   "cell_type": "code",
   "execution_count": 6,
   "metadata": {},
   "outputs": [],
   "source": [
    "# Read in from pandas\n",
    "hotelDf = pd.read_csv('barrie.csv')\n",
    "hotelDf.columns=['id','filePath','hotelName','review','ratingScore','groundTruth']"
   ]
  },
  {
   "cell_type": "code",
   "execution_count": 7,
   "metadata": {},
   "outputs": [
    {
     "data": {
      "text/html": [
       "<div>\n",
       "<style>\n",
       "    .dataframe thead tr:only-child th {\n",
       "        text-align: right;\n",
       "    }\n",
       "\n",
       "    .dataframe thead th {\n",
       "        text-align: left;\n",
       "    }\n",
       "\n",
       "    .dataframe tbody tr th {\n",
       "        vertical-align: top;\n",
       "    }\n",
       "</style>\n",
       "<table border=\"1\" class=\"dataframe\">\n",
       "  <thead>\n",
       "    <tr style=\"text-align: right;\">\n",
       "      <th></th>\n",
       "      <th>id</th>\n",
       "      <th>filePath</th>\n",
       "      <th>hotelName</th>\n",
       "      <th>review</th>\n",
       "      <th>ratingScore</th>\n",
       "      <th>groundTruth</th>\n",
       "    </tr>\n",
       "  </thead>\n",
       "  <tbody>\n",
       "    <tr>\n",
       "      <th>0</th>\n",
       "      <td>99145909</td>\n",
       "      <td>barrie/ca/154980/1238832/112386669.html</td>\n",
       "      <td>Hampton Inn &amp;amp; Suites by Hilton Barrie</td>\n",
       "      <td>This is what hotels should be like. Clean, lar...</td>\n",
       "      <td>4</td>\n",
       "      <td>positive</td>\n",
       "    </tr>\n",
       "    <tr>\n",
       "      <th>1</th>\n",
       "      <td>97597588</td>\n",
       "      <td>barrie/ca/154980/1238832/112386669.html</td>\n",
       "      <td>Hampton Inn &amp;amp; Suites by Hilton Barrie</td>\n",
       "      <td>The room was beautiful and spacious, but the f...</td>\n",
       "      <td>3</td>\n",
       "      <td>negative</td>\n",
       "    </tr>\n",
       "    <tr>\n",
       "      <th>2</th>\n",
       "      <td>96239840</td>\n",
       "      <td>barrie/ca/154980/1238832/112386669.html</td>\n",
       "      <td>Hampton Inn &amp;amp; Suites by Hilton Barrie</td>\n",
       "      <td>I have been staying here off and on most weeks...</td>\n",
       "      <td>5</td>\n",
       "      <td>positive</td>\n",
       "    </tr>\n",
       "    <tr>\n",
       "      <th>3</th>\n",
       "      <td>96025643</td>\n",
       "      <td>barrie/ca/154980/1238832/112386669.html</td>\n",
       "      <td>Hampton Inn &amp;amp; Suites by Hilton Barrie</td>\n",
       "      <td>Dear M, I just wanted to write a note of thank...</td>\n",
       "      <td>5</td>\n",
       "      <td>positive</td>\n",
       "    </tr>\n",
       "    <tr>\n",
       "      <th>4</th>\n",
       "      <td>95527737</td>\n",
       "      <td>barrie/ca/154980/1238832/112386669.html</td>\n",
       "      <td>Hampton Inn &amp;amp; Suites by Hilton Barrie</td>\n",
       "      <td>Stayed here for two nights in Feb 2011. Great ...</td>\n",
       "      <td>5</td>\n",
       "      <td>positive</td>\n",
       "    </tr>\n",
       "  </tbody>\n",
       "</table>\n",
       "</div>"
      ],
      "text/plain": [
       "         id                                 filePath  \\\n",
       "0  99145909  barrie/ca/154980/1238832/112386669.html   \n",
       "1  97597588  barrie/ca/154980/1238832/112386669.html   \n",
       "2  96239840  barrie/ca/154980/1238832/112386669.html   \n",
       "3  96025643  barrie/ca/154980/1238832/112386669.html   \n",
       "4  95527737  barrie/ca/154980/1238832/112386669.html   \n",
       "\n",
       "                                   hotelName  \\\n",
       "0  Hampton Inn &amp; Suites by Hilton Barrie   \n",
       "1  Hampton Inn &amp; Suites by Hilton Barrie   \n",
       "2  Hampton Inn &amp; Suites by Hilton Barrie   \n",
       "3  Hampton Inn &amp; Suites by Hilton Barrie   \n",
       "4  Hampton Inn &amp; Suites by Hilton Barrie   \n",
       "\n",
       "                                              review  ratingScore groundTruth  \n",
       "0  This is what hotels should be like. Clean, lar...            4    positive  \n",
       "1  The room was beautiful and spacious, but the f...            3    negative  \n",
       "2  I have been staying here off and on most weeks...            5    positive  \n",
       "3  Dear M, I just wanted to write a note of thank...            5    positive  \n",
       "4  Stayed here for two nights in Feb 2011. Great ...            5    positive  "
      ]
     },
     "execution_count": 7,
     "metadata": {},
     "output_type": "execute_result"
    }
   ],
   "source": [
    "hotelDf.head()"
   ]
  },
  {
   "cell_type": "code",
   "execution_count": 8,
   "metadata": {
    "collapsed": true
   },
   "outputs": [],
   "source": [
    "# There are unparsed html tags in the hotelnames. We can changed the html tags to ascii equivalents by using the following code.\n",
    "for i in range(len(hotelDf)):\n",
    "    hotelname = hotelDf.at[i, 'hotelName']\n",
    "    hotelname = hotelname.encode(\"utf-8\")\n",
    "    hotelname = hotelname.decode(\"ascii\", \"ignore\")\n",
    "    hotelname = html.unescape(hotelname)\n",
    "    hotelDf.at[i, 'hotelName'] = hotelname"
   ]
  },
  {
   "cell_type": "markdown",
   "metadata": {},
   "source": [
    "One thing we can notice here is the groundtruth is categorical variable ('positive', 'negative'). If the rating score is 4 or 5, we say the ground truth is positive, otherwise we say it is negative."
   ]
  },
  {
   "cell_type": "code",
   "execution_count": 9,
   "metadata": {
    "collapsed": true
   },
   "outputs": [],
   "source": [
    "# Instantiate the sentiment Analyzer\n",
    "sid = SentimentIntensityAnalyzer()"
   ]
  },
  {
   "cell_type": "code",
   "execution_count": 10,
   "metadata": {
    "collapsed": true
   },
   "outputs": [],
   "source": [
    "# We will ignore all stopwords in the review column\n",
    "stop = set(stopwords.words('english'))\n",
    "\n",
    "#Add possible Stop Words for Hotel Reviews\n",
    "stop.add('hotel')\n",
    "stop.add('room')\n",
    "stop.add('rooms')\n",
    "stop.add('stay')\n",
    "stop.add('staff')\n",
    "stop.add('ontario')\n",
    "stop.add('hampton')"
   ]
  },
  {
   "cell_type": "code",
   "execution_count": 11,
   "metadata": {
    "collapsed": true
   },
   "outputs": [],
   "source": [
    "#Count the frequency of words\n",
    "counter = Counter()\n",
    "for review in hotelDf['review']:\n",
    "        counter.update([word.lower() for word in re.findall(r'\\w+', review) if word.lower() not in stop and len(word) > 2])"
   ]
  },
  {
   "cell_type": "code",
   "execution_count": 12,
   "metadata": {
    "collapsed": true
   },
   "outputs": [],
   "source": [
    "#Top k word counted by frequency\n",
    "k = 500\n",
    "topk = counter.most_common(k)"
   ]
  },
  {
   "cell_type": "code",
   "execution_count": 13,
   "metadata": {},
   "outputs": [
    {
     "name": "stdout",
     "output_type": "stream",
     "text": [
      "processed 1 reviews\n",
      "processed 1001 reviews\n",
      "processed 2001 reviews\n",
      "processed 3001 reviews\n",
      "processed 4001 reviews\n",
      "completed\n"
     ]
    }
   ],
   "source": [
    "vaderScores = []\n",
    "#Assign Vader score to individual review using Vader compound score\n",
    "for rownum, review in enumerate(hotelDf['review']):\n",
    "    scores = sid.polarity_scores(review)\n",
    "    vaderScores.append(scores['compound'])\n",
    "    if (rownum % 1000 == 0):\n",
    "            print(\"processed %d reviews\" % (rownum+1))\n",
    "print(\"completed\")"
   ]
  },
  {
   "cell_type": "code",
   "execution_count": 14,
   "metadata": {},
   "outputs": [
    {
     "data": {
      "text/html": [
       "<div>\n",
       "<style>\n",
       "    .dataframe thead tr:only-child th {\n",
       "        text-align: right;\n",
       "    }\n",
       "\n",
       "    .dataframe thead th {\n",
       "        text-align: left;\n",
       "    }\n",
       "\n",
       "    .dataframe tbody tr th {\n",
       "        vertical-align: top;\n",
       "    }\n",
       "</style>\n",
       "<table border=\"1\" class=\"dataframe\">\n",
       "  <thead>\n",
       "    <tr style=\"text-align: right;\">\n",
       "      <th></th>\n",
       "      <th>id</th>\n",
       "      <th>filePath</th>\n",
       "      <th>hotelName</th>\n",
       "      <th>review</th>\n",
       "      <th>ratingScore</th>\n",
       "      <th>groundTruth</th>\n",
       "      <th>vaderScore</th>\n",
       "    </tr>\n",
       "  </thead>\n",
       "  <tbody>\n",
       "    <tr>\n",
       "      <th>0</th>\n",
       "      <td>99145909</td>\n",
       "      <td>barrie/ca/154980/1238832/112386669.html</td>\n",
       "      <td>Hampton Inn &amp; Suites by Hilton Barrie</td>\n",
       "      <td>This is what hotels should be like. Clean, lar...</td>\n",
       "      <td>4</td>\n",
       "      <td>positive</td>\n",
       "      <td>0.9534</td>\n",
       "    </tr>\n",
       "    <tr>\n",
       "      <th>1</th>\n",
       "      <td>97597588</td>\n",
       "      <td>barrie/ca/154980/1238832/112386669.html</td>\n",
       "      <td>Hampton Inn &amp; Suites by Hilton Barrie</td>\n",
       "      <td>The room was beautiful and spacious, but the f...</td>\n",
       "      <td>3</td>\n",
       "      <td>negative</td>\n",
       "      <td>0.9522</td>\n",
       "    </tr>\n",
       "    <tr>\n",
       "      <th>2</th>\n",
       "      <td>96239840</td>\n",
       "      <td>barrie/ca/154980/1238832/112386669.html</td>\n",
       "      <td>Hampton Inn &amp; Suites by Hilton Barrie</td>\n",
       "      <td>I have been staying here off and on most weeks...</td>\n",
       "      <td>5</td>\n",
       "      <td>positive</td>\n",
       "      <td>0.9516</td>\n",
       "    </tr>\n",
       "    <tr>\n",
       "      <th>3</th>\n",
       "      <td>96025643</td>\n",
       "      <td>barrie/ca/154980/1238832/112386669.html</td>\n",
       "      <td>Hampton Inn &amp; Suites by Hilton Barrie</td>\n",
       "      <td>Dear M, I just wanted to write a note of thank...</td>\n",
       "      <td>5</td>\n",
       "      <td>positive</td>\n",
       "      <td>0.9932</td>\n",
       "    </tr>\n",
       "    <tr>\n",
       "      <th>4</th>\n",
       "      <td>95527737</td>\n",
       "      <td>barrie/ca/154980/1238832/112386669.html</td>\n",
       "      <td>Hampton Inn &amp; Suites by Hilton Barrie</td>\n",
       "      <td>Stayed here for two nights in Feb 2011. Great ...</td>\n",
       "      <td>5</td>\n",
       "      <td>positive</td>\n",
       "      <td>0.9543</td>\n",
       "    </tr>\n",
       "  </tbody>\n",
       "</table>\n",
       "</div>"
      ],
      "text/plain": [
       "         id                                 filePath  \\\n",
       "0  99145909  barrie/ca/154980/1238832/112386669.html   \n",
       "1  97597588  barrie/ca/154980/1238832/112386669.html   \n",
       "2  96239840  barrie/ca/154980/1238832/112386669.html   \n",
       "3  96025643  barrie/ca/154980/1238832/112386669.html   \n",
       "4  95527737  barrie/ca/154980/1238832/112386669.html   \n",
       "\n",
       "                               hotelName  \\\n",
       "0  Hampton Inn & Suites by Hilton Barrie   \n",
       "1  Hampton Inn & Suites by Hilton Barrie   \n",
       "2  Hampton Inn & Suites by Hilton Barrie   \n",
       "3  Hampton Inn & Suites by Hilton Barrie   \n",
       "4  Hampton Inn & Suites by Hilton Barrie   \n",
       "\n",
       "                                              review  ratingScore groundTruth  \\\n",
       "0  This is what hotels should be like. Clean, lar...            4    positive   \n",
       "1  The room was beautiful and spacious, but the f...            3    negative   \n",
       "2  I have been staying here off and on most weeks...            5    positive   \n",
       "3  Dear M, I just wanted to write a note of thank...            5    positive   \n",
       "4  Stayed here for two nights in Feb 2011. Great ...            5    positive   \n",
       "\n",
       "   vaderScore  \n",
       "0      0.9534  \n",
       "1      0.9522  \n",
       "2      0.9516  \n",
       "3      0.9932  \n",
       "4      0.9543  "
      ]
     },
     "execution_count": 14,
     "metadata": {},
     "output_type": "execute_result"
    }
   ],
   "source": [
    "# Assign vader scores in the original df\n",
    "hotelDf = hotelDf.assign(vaderScore = vaderScores)\n",
    "hotelDf.head()"
   ]
  },
  {
   "cell_type": "code",
   "execution_count": 15,
   "metadata": {},
   "outputs": [],
   "source": [
    "#Find out if a particular review has the word from topk list\n",
    "freqReview = []\n",
    "for i in range(len(hotelDf)):\n",
    "    tempCounter = Counter([word for word in re.findall(r'\\w+', hotelDf['review'][i])])\n",
    "    topkinReview = [1 if tempCounter[word] > 0 else 0 for (word, wordCount) in topk]\n",
    "    freqReview.append(topkinReview)\n",
    "    \n",
    "#Prepare freqReviewDf\n",
    "freqReviewDf = pd.DataFrame(freqReview)\n",
    "dfName = []\n",
    "for c in topk:\n",
    "    dfName.append(c[0])\n",
    "freqReviewDf.columns = dfName"
   ]
  },
  {
   "cell_type": "markdown",
   "metadata": {},
   "source": [
    "### This is how the bag-of-words model looks like\n",
    "We used binary feature here.\n",
    "\n",
    "\n",
    "1: the word exists in the review\n",
    "\n",
    "\n",
    "0: the word does not exist in the review"
   ]
  },
  {
   "cell_type": "code",
   "execution_count": 16,
   "metadata": {
    "scrolled": true
   },
   "outputs": [
    {
     "data": {
      "text/html": [
       "<div>\n",
       "<style>\n",
       "    .dataframe thead tr:only-child th {\n",
       "        text-align: right;\n",
       "    }\n",
       "\n",
       "    .dataframe thead th {\n",
       "        text-align: left;\n",
       "    }\n",
       "\n",
       "    .dataframe tbody tr th {\n",
       "        vertical-align: top;\n",
       "    }\n",
       "</style>\n",
       "<table border=\"1\" class=\"dataframe\">\n",
       "  <thead>\n",
       "    <tr style=\"text-align: right;\">\n",
       "      <th></th>\n",
       "      <th>great</th>\n",
       "      <th>clean</th>\n",
       "      <th>would</th>\n",
       "      <th>breakfast</th>\n",
       "      <th>good</th>\n",
       "      <th>one</th>\n",
       "      <th>pool</th>\n",
       "      <th>nice</th>\n",
       "      <th>stayed</th>\n",
       "      <th>resort</th>\n",
       "      <th>...</th>\n",
       "      <th>options</th>\n",
       "      <th>slow</th>\n",
       "      <th>hwy</th>\n",
       "      <th>adults</th>\n",
       "      <th>certainly</th>\n",
       "      <th>terrible</th>\n",
       "      <th>unfortunately</th>\n",
       "      <th>carpet</th>\n",
       "      <th>trails</th>\n",
       "      <th>standard</th>\n",
       "    </tr>\n",
       "  </thead>\n",
       "  <tbody>\n",
       "    <tr>\n",
       "      <th>0</th>\n",
       "      <td>0</td>\n",
       "      <td>0</td>\n",
       "      <td>0</td>\n",
       "      <td>1</td>\n",
       "      <td>0</td>\n",
       "      <td>1</td>\n",
       "      <td>0</td>\n",
       "      <td>1</td>\n",
       "      <td>0</td>\n",
       "      <td>0</td>\n",
       "      <td>...</td>\n",
       "      <td>0</td>\n",
       "      <td>0</td>\n",
       "      <td>0</td>\n",
       "      <td>0</td>\n",
       "      <td>0</td>\n",
       "      <td>0</td>\n",
       "      <td>0</td>\n",
       "      <td>0</td>\n",
       "      <td>0</td>\n",
       "      <td>0</td>\n",
       "    </tr>\n",
       "    <tr>\n",
       "      <th>1</th>\n",
       "      <td>0</td>\n",
       "      <td>0</td>\n",
       "      <td>0</td>\n",
       "      <td>1</td>\n",
       "      <td>0</td>\n",
       "      <td>0</td>\n",
       "      <td>0</td>\n",
       "      <td>0</td>\n",
       "      <td>0</td>\n",
       "      <td>0</td>\n",
       "      <td>...</td>\n",
       "      <td>0</td>\n",
       "      <td>0</td>\n",
       "      <td>0</td>\n",
       "      <td>0</td>\n",
       "      <td>0</td>\n",
       "      <td>0</td>\n",
       "      <td>0</td>\n",
       "      <td>0</td>\n",
       "      <td>0</td>\n",
       "      <td>0</td>\n",
       "    </tr>\n",
       "    <tr>\n",
       "      <th>2</th>\n",
       "      <td>1</td>\n",
       "      <td>1</td>\n",
       "      <td>1</td>\n",
       "      <td>0</td>\n",
       "      <td>1</td>\n",
       "      <td>0</td>\n",
       "      <td>0</td>\n",
       "      <td>0</td>\n",
       "      <td>0</td>\n",
       "      <td>0</td>\n",
       "      <td>...</td>\n",
       "      <td>0</td>\n",
       "      <td>0</td>\n",
       "      <td>0</td>\n",
       "      <td>0</td>\n",
       "      <td>0</td>\n",
       "      <td>0</td>\n",
       "      <td>0</td>\n",
       "      <td>0</td>\n",
       "      <td>0</td>\n",
       "      <td>0</td>\n",
       "    </tr>\n",
       "    <tr>\n",
       "      <th>3</th>\n",
       "      <td>1</td>\n",
       "      <td>0</td>\n",
       "      <td>1</td>\n",
       "      <td>1</td>\n",
       "      <td>0</td>\n",
       "      <td>1</td>\n",
       "      <td>1</td>\n",
       "      <td>0</td>\n",
       "      <td>1</td>\n",
       "      <td>0</td>\n",
       "      <td>...</td>\n",
       "      <td>0</td>\n",
       "      <td>0</td>\n",
       "      <td>0</td>\n",
       "      <td>0</td>\n",
       "      <td>0</td>\n",
       "      <td>0</td>\n",
       "      <td>0</td>\n",
       "      <td>0</td>\n",
       "      <td>0</td>\n",
       "      <td>0</td>\n",
       "    </tr>\n",
       "    <tr>\n",
       "      <th>4</th>\n",
       "      <td>1</td>\n",
       "      <td>1</td>\n",
       "      <td>0</td>\n",
       "      <td>1</td>\n",
       "      <td>0</td>\n",
       "      <td>0</td>\n",
       "      <td>0</td>\n",
       "      <td>1</td>\n",
       "      <td>0</td>\n",
       "      <td>0</td>\n",
       "      <td>...</td>\n",
       "      <td>1</td>\n",
       "      <td>0</td>\n",
       "      <td>0</td>\n",
       "      <td>0</td>\n",
       "      <td>0</td>\n",
       "      <td>0</td>\n",
       "      <td>0</td>\n",
       "      <td>0</td>\n",
       "      <td>0</td>\n",
       "      <td>0</td>\n",
       "    </tr>\n",
       "  </tbody>\n",
       "</table>\n",
       "<p>5 rows × 500 columns</p>\n",
       "</div>"
      ],
      "text/plain": [
       "   great  clean  would  breakfast  good  one  pool  nice  stayed  resort  \\\n",
       "0      0      0      0          1     0    1     0     1       0       0   \n",
       "1      0      0      0          1     0    0     0     0       0       0   \n",
       "2      1      1      1          0     1    0     0     0       0       0   \n",
       "3      1      0      1          1     0    1     1     0       1       0   \n",
       "4      1      1      0          1     0    0     0     1       0       0   \n",
       "\n",
       "     ...     options  slow  hwy  adults  certainly  terrible  unfortunately  \\\n",
       "0    ...           0     0    0       0          0         0              0   \n",
       "1    ...           0     0    0       0          0         0              0   \n",
       "2    ...           0     0    0       0          0         0              0   \n",
       "3    ...           0     0    0       0          0         0              0   \n",
       "4    ...           1     0    0       0          0         0              0   \n",
       "\n",
       "   carpet  trails  standard  \n",
       "0       0       0         0  \n",
       "1       0       0         0  \n",
       "2       0       0         0  \n",
       "3       0       0         0  \n",
       "4       0       0         0  \n",
       "\n",
       "[5 rows x 500 columns]"
      ]
     },
     "execution_count": 16,
     "metadata": {},
     "output_type": "execute_result"
    }
   ],
   "source": [
    "freqReviewDf.head()"
   ]
  },
  {
   "cell_type": "markdown",
   "metadata": {},
   "source": [
    "We extract *hotel name*, *rating score*, *ground truth*, *vader score* and *top-k words* from the hotelDf to start the analysis."
   ]
  },
  {
   "cell_type": "code",
   "execution_count": 17,
   "metadata": {},
   "outputs": [
    {
     "data": {
      "text/html": [
       "<div>\n",
       "<style>\n",
       "    .dataframe thead tr:only-child th {\n",
       "        text-align: right;\n",
       "    }\n",
       "\n",
       "    .dataframe thead th {\n",
       "        text-align: left;\n",
       "    }\n",
       "\n",
       "    .dataframe tbody tr th {\n",
       "        vertical-align: top;\n",
       "    }\n",
       "</style>\n",
       "<table border=\"1\" class=\"dataframe\">\n",
       "  <thead>\n",
       "    <tr style=\"text-align: right;\">\n",
       "      <th></th>\n",
       "      <th>hotelName</th>\n",
       "      <th>ratingScore</th>\n",
       "      <th>groundTruth</th>\n",
       "      <th>vaderScore</th>\n",
       "      <th>great</th>\n",
       "      <th>clean</th>\n",
       "      <th>would</th>\n",
       "      <th>breakfast</th>\n",
       "      <th>good</th>\n",
       "      <th>one</th>\n",
       "      <th>...</th>\n",
       "      <th>options</th>\n",
       "      <th>slow</th>\n",
       "      <th>hwy</th>\n",
       "      <th>adults</th>\n",
       "      <th>certainly</th>\n",
       "      <th>terrible</th>\n",
       "      <th>unfortunately</th>\n",
       "      <th>carpet</th>\n",
       "      <th>trails</th>\n",
       "      <th>standard</th>\n",
       "    </tr>\n",
       "  </thead>\n",
       "  <tbody>\n",
       "    <tr>\n",
       "      <th>0</th>\n",
       "      <td>Hampton Inn &amp; Suites by Hilton Barrie</td>\n",
       "      <td>4</td>\n",
       "      <td>positive</td>\n",
       "      <td>0.9534</td>\n",
       "      <td>0</td>\n",
       "      <td>0</td>\n",
       "      <td>0</td>\n",
       "      <td>1</td>\n",
       "      <td>0</td>\n",
       "      <td>1</td>\n",
       "      <td>...</td>\n",
       "      <td>0</td>\n",
       "      <td>0</td>\n",
       "      <td>0</td>\n",
       "      <td>0</td>\n",
       "      <td>0</td>\n",
       "      <td>0</td>\n",
       "      <td>0</td>\n",
       "      <td>0</td>\n",
       "      <td>0</td>\n",
       "      <td>0</td>\n",
       "    </tr>\n",
       "    <tr>\n",
       "      <th>1</th>\n",
       "      <td>Hampton Inn &amp; Suites by Hilton Barrie</td>\n",
       "      <td>3</td>\n",
       "      <td>negative</td>\n",
       "      <td>0.9522</td>\n",
       "      <td>0</td>\n",
       "      <td>0</td>\n",
       "      <td>0</td>\n",
       "      <td>1</td>\n",
       "      <td>0</td>\n",
       "      <td>0</td>\n",
       "      <td>...</td>\n",
       "      <td>0</td>\n",
       "      <td>0</td>\n",
       "      <td>0</td>\n",
       "      <td>0</td>\n",
       "      <td>0</td>\n",
       "      <td>0</td>\n",
       "      <td>0</td>\n",
       "      <td>0</td>\n",
       "      <td>0</td>\n",
       "      <td>0</td>\n",
       "    </tr>\n",
       "    <tr>\n",
       "      <th>2</th>\n",
       "      <td>Hampton Inn &amp; Suites by Hilton Barrie</td>\n",
       "      <td>5</td>\n",
       "      <td>positive</td>\n",
       "      <td>0.9516</td>\n",
       "      <td>1</td>\n",
       "      <td>1</td>\n",
       "      <td>1</td>\n",
       "      <td>0</td>\n",
       "      <td>1</td>\n",
       "      <td>0</td>\n",
       "      <td>...</td>\n",
       "      <td>0</td>\n",
       "      <td>0</td>\n",
       "      <td>0</td>\n",
       "      <td>0</td>\n",
       "      <td>0</td>\n",
       "      <td>0</td>\n",
       "      <td>0</td>\n",
       "      <td>0</td>\n",
       "      <td>0</td>\n",
       "      <td>0</td>\n",
       "    </tr>\n",
       "    <tr>\n",
       "      <th>3</th>\n",
       "      <td>Hampton Inn &amp; Suites by Hilton Barrie</td>\n",
       "      <td>5</td>\n",
       "      <td>positive</td>\n",
       "      <td>0.9932</td>\n",
       "      <td>1</td>\n",
       "      <td>0</td>\n",
       "      <td>1</td>\n",
       "      <td>1</td>\n",
       "      <td>0</td>\n",
       "      <td>1</td>\n",
       "      <td>...</td>\n",
       "      <td>0</td>\n",
       "      <td>0</td>\n",
       "      <td>0</td>\n",
       "      <td>0</td>\n",
       "      <td>0</td>\n",
       "      <td>0</td>\n",
       "      <td>0</td>\n",
       "      <td>0</td>\n",
       "      <td>0</td>\n",
       "      <td>0</td>\n",
       "    </tr>\n",
       "    <tr>\n",
       "      <th>4</th>\n",
       "      <td>Hampton Inn &amp; Suites by Hilton Barrie</td>\n",
       "      <td>5</td>\n",
       "      <td>positive</td>\n",
       "      <td>0.9543</td>\n",
       "      <td>1</td>\n",
       "      <td>1</td>\n",
       "      <td>0</td>\n",
       "      <td>1</td>\n",
       "      <td>0</td>\n",
       "      <td>0</td>\n",
       "      <td>...</td>\n",
       "      <td>1</td>\n",
       "      <td>0</td>\n",
       "      <td>0</td>\n",
       "      <td>0</td>\n",
       "      <td>0</td>\n",
       "      <td>0</td>\n",
       "      <td>0</td>\n",
       "      <td>0</td>\n",
       "      <td>0</td>\n",
       "      <td>0</td>\n",
       "    </tr>\n",
       "  </tbody>\n",
       "</table>\n",
       "<p>5 rows × 504 columns</p>\n",
       "</div>"
      ],
      "text/plain": [
       "                               hotelName  ratingScore groundTruth  vaderScore  \\\n",
       "0  Hampton Inn & Suites by Hilton Barrie            4    positive      0.9534   \n",
       "1  Hampton Inn & Suites by Hilton Barrie            3    negative      0.9522   \n",
       "2  Hampton Inn & Suites by Hilton Barrie            5    positive      0.9516   \n",
       "3  Hampton Inn & Suites by Hilton Barrie            5    positive      0.9932   \n",
       "4  Hampton Inn & Suites by Hilton Barrie            5    positive      0.9543   \n",
       "\n",
       "   great  clean  would  breakfast  good  one    ...     options  slow  hwy  \\\n",
       "0      0      0      0          1     0    1    ...           0     0    0   \n",
       "1      0      0      0          1     0    0    ...           0     0    0   \n",
       "2      1      1      1          0     1    0    ...           0     0    0   \n",
       "3      1      0      1          1     0    1    ...           0     0    0   \n",
       "4      1      1      0          1     0    0    ...           1     0    0   \n",
       "\n",
       "   adults  certainly  terrible  unfortunately  carpet  trails  standard  \n",
       "0       0          0         0              0       0       0         0  \n",
       "1       0          0         0              0       0       0         0  \n",
       "2       0          0         0              0       0       0         0  \n",
       "3       0          0         0              0       0       0         0  \n",
       "4       0          0         0              0       0       0         0  \n",
       "\n",
       "[5 rows x 504 columns]"
      ]
     },
     "execution_count": 17,
     "metadata": {},
     "output_type": "execute_result"
    }
   ],
   "source": [
    "finaldf = hotelDf[['hotelName','ratingScore','groundTruth', 'vaderScore']].join(freqReviewDf)\n",
    "finaldf.head()"
   ]
  },
  {
   "cell_type": "markdown",
   "metadata": {},
   "source": [
    "## Can we learn something about the true ratings from Vader scores?\n",
    "In other words, can we build infer true review ratings by using vader score? and why even would we be intereted in that?\n",
    "\n",
    "Usually, we have many other options for the regression problem. *Linear Regression*, *Decision Tree* and etc.\n",
    "\n",
    "But using Vader analyzer is **simple and fast**. We can use it as an initial tool before building a heavy machine learning model to figure out the trend in the data."
   ]
  },
  {
   "cell_type": "markdown",
   "metadata": {},
   "source": [
    "#### Top 5 reviews hotel by *ratings*"
   ]
  },
  {
   "cell_type": "code",
   "execution_count": 18,
   "metadata": {
    "collapsed": true
   },
   "outputs": [],
   "source": [
    "ratingByHotel = finaldf.groupby(['hotelName']).mean()['ratingScore'].reset_index()\n",
    "vaderByHotel = finaldf.groupby(['hotelName']).mean()['vaderScore'].reset_index()"
   ]
  },
  {
   "cell_type": "code",
   "execution_count": 19,
   "metadata": {},
   "outputs": [
    {
     "data": {
      "text/html": [
       "<div>\n",
       "<style>\n",
       "    .dataframe thead tr:only-child th {\n",
       "        text-align: right;\n",
       "    }\n",
       "\n",
       "    .dataframe thead th {\n",
       "        text-align: left;\n",
       "    }\n",
       "\n",
       "    .dataframe tbody tr th {\n",
       "        vertical-align: top;\n",
       "    }\n",
       "</style>\n",
       "<table border=\"1\" class=\"dataframe\">\n",
       "  <thead>\n",
       "    <tr style=\"text-align: right;\">\n",
       "      <th></th>\n",
       "      <th>hotelName</th>\n",
       "      <th>ratingScore</th>\n",
       "    </tr>\n",
       "  </thead>\n",
       "  <tbody>\n",
       "    <tr>\n",
       "      <th>7</th>\n",
       "      <td>Fairfield Inn &amp; Suites Barrie</td>\n",
       "      <td>4.589286</td>\n",
       "    </tr>\n",
       "    <tr>\n",
       "      <th>9</th>\n",
       "      <td>Hampton Inn &amp; Suites by Hilton Barrie</td>\n",
       "      <td>4.430233</td>\n",
       "    </tr>\n",
       "    <tr>\n",
       "      <th>4</th>\n",
       "      <td>Carriage Ridge Resort</td>\n",
       "      <td>4.169753</td>\n",
       "    </tr>\n",
       "    <tr>\n",
       "      <th>10</th>\n",
       "      <td>Holiday Inn Barrie Hotel &amp; Conference Centre</td>\n",
       "      <td>4.104839</td>\n",
       "    </tr>\n",
       "    <tr>\n",
       "      <th>17</th>\n",
       "      <td>Super 8 Barrie</td>\n",
       "      <td>4.095156</td>\n",
       "    </tr>\n",
       "    <tr>\n",
       "      <th>0</th>\n",
       "      <td>BEST WESTERN Royal Oak Inn</td>\n",
       "      <td>3.909348</td>\n",
       "    </tr>\n",
       "    <tr>\n",
       "      <th>11</th>\n",
       "      <td>Holiday Inn Express Barrie</td>\n",
       "      <td>3.906667</td>\n",
       "    </tr>\n",
       "    <tr>\n",
       "      <th>3</th>\n",
       "      <td>Carriage Hills Resort</td>\n",
       "      <td>3.900302</td>\n",
       "    </tr>\n",
       "    <tr>\n",
       "      <th>8</th>\n",
       "      <td>Four Points By Sheraton Barrie</td>\n",
       "      <td>3.853659</td>\n",
       "    </tr>\n",
       "    <tr>\n",
       "      <th>14</th>\n",
       "      <td>Monte Carlo Inn - Barrie Suites</td>\n",
       "      <td>3.710462</td>\n",
       "    </tr>\n",
       "  </tbody>\n",
       "</table>\n",
       "</div>"
      ],
      "text/plain": [
       "                                       hotelName  ratingScore\n",
       "7                  Fairfield Inn & Suites Barrie     4.589286\n",
       "9          Hampton Inn & Suites by Hilton Barrie     4.430233\n",
       "4                          Carriage Ridge Resort     4.169753\n",
       "10  Holiday Inn Barrie Hotel & Conference Centre     4.104839\n",
       "17                                Super 8 Barrie     4.095156\n",
       "0                     BEST WESTERN Royal Oak Inn     3.909348\n",
       "11                    Holiday Inn Express Barrie     3.906667\n",
       "3                          Carriage Hills Resort     3.900302\n",
       "8                 Four Points By Sheraton Barrie     3.853659\n",
       "14               Monte Carlo Inn - Barrie Suites     3.710462"
      ]
     },
     "execution_count": 19,
     "metadata": {},
     "output_type": "execute_result"
    }
   ],
   "source": [
    "ratingByHotel = ratingByHotel.sort_values('ratingScore', ascending=False)\n",
    "ratingByHotel.head(10)"
   ]
  },
  {
   "cell_type": "markdown",
   "metadata": {},
   "source": [
    "#### Top 5 reviews hotel by *vader score*"
   ]
  },
  {
   "cell_type": "code",
   "execution_count": 20,
   "metadata": {},
   "outputs": [
    {
     "data": {
      "text/html": [
       "<div>\n",
       "<style>\n",
       "    .dataframe thead tr:only-child th {\n",
       "        text-align: right;\n",
       "    }\n",
       "\n",
       "    .dataframe thead th {\n",
       "        text-align: left;\n",
       "    }\n",
       "\n",
       "    .dataframe tbody tr th {\n",
       "        vertical-align: top;\n",
       "    }\n",
       "</style>\n",
       "<table border=\"1\" class=\"dataframe\">\n",
       "  <thead>\n",
       "    <tr style=\"text-align: right;\">\n",
       "      <th></th>\n",
       "      <th>hotelName</th>\n",
       "      <th>vaderScore</th>\n",
       "    </tr>\n",
       "  </thead>\n",
       "  <tbody>\n",
       "    <tr>\n",
       "      <th>7</th>\n",
       "      <td>Fairfield Inn &amp; Suites Barrie</td>\n",
       "      <td>0.884062</td>\n",
       "    </tr>\n",
       "    <tr>\n",
       "      <th>9</th>\n",
       "      <td>Hampton Inn &amp; Suites by Hilton Barrie</td>\n",
       "      <td>0.826441</td>\n",
       "    </tr>\n",
       "    <tr>\n",
       "      <th>8</th>\n",
       "      <td>Four Points By Sheraton Barrie</td>\n",
       "      <td>0.822049</td>\n",
       "    </tr>\n",
       "    <tr>\n",
       "      <th>10</th>\n",
       "      <td>Holiday Inn Barrie Hotel &amp; Conference Centre</td>\n",
       "      <td>0.793993</td>\n",
       "    </tr>\n",
       "    <tr>\n",
       "      <th>4</th>\n",
       "      <td>Carriage Ridge Resort</td>\n",
       "      <td>0.781669</td>\n",
       "    </tr>\n",
       "    <tr>\n",
       "      <th>11</th>\n",
       "      <td>Holiday Inn Express Barrie</td>\n",
       "      <td>0.768908</td>\n",
       "    </tr>\n",
       "    <tr>\n",
       "      <th>3</th>\n",
       "      <td>Carriage Hills Resort</td>\n",
       "      <td>0.737405</td>\n",
       "    </tr>\n",
       "    <tr>\n",
       "      <th>0</th>\n",
       "      <td>BEST WESTERN Royal Oak Inn</td>\n",
       "      <td>0.735878</td>\n",
       "    </tr>\n",
       "    <tr>\n",
       "      <th>17</th>\n",
       "      <td>Super 8 Barrie</td>\n",
       "      <td>0.722113</td>\n",
       "    </tr>\n",
       "    <tr>\n",
       "      <th>6</th>\n",
       "      <td>Comfort Inn - Barrie / Hart Dr.</td>\n",
       "      <td>0.715257</td>\n",
       "    </tr>\n",
       "  </tbody>\n",
       "</table>\n",
       "</div>"
      ],
      "text/plain": [
       "                                       hotelName  vaderScore\n",
       "7                  Fairfield Inn & Suites Barrie    0.884062\n",
       "9          Hampton Inn & Suites by Hilton Barrie    0.826441\n",
       "8                 Four Points By Sheraton Barrie    0.822049\n",
       "10  Holiday Inn Barrie Hotel & Conference Centre    0.793993\n",
       "4                          Carriage Ridge Resort    0.781669\n",
       "11                    Holiday Inn Express Barrie    0.768908\n",
       "3                          Carriage Hills Resort    0.737405\n",
       "0                     BEST WESTERN Royal Oak Inn    0.735878\n",
       "17                                Super 8 Barrie    0.722113\n",
       "6                Comfort Inn - Barrie / Hart Dr.    0.715257"
      ]
     },
     "execution_count": 20,
     "metadata": {},
     "output_type": "execute_result"
    }
   ],
   "source": [
    "vaderByHotel = vaderByHotel.sort_values('vaderScore', ascending=False)\n",
    "vaderByHotel.head(10)"
   ]
  },
  {
   "cell_type": "markdown",
   "metadata": {},
   "source": [
    "### The two lists are very similar!\n",
    "Vader scores are highly correlated with the true rating scores."
   ]
  },
  {
   "cell_type": "markdown",
   "metadata": {},
   "source": [
    "## Which words were most sentiment-bearing in the reviews?\n",
    "#### To explore this question, we will calculate the following 3 factors.\n",
    "1. Word Frequency\n",
    "2. Mutual Information\n",
    "3. Pointwise Mutual Information (PMI)"
   ]
  },
  {
   "cell_type": "markdown",
   "metadata": {},
   "source": [
    "### 1. Word Frequency\n",
    "Can word frequency in review data tell us how the customers felt about the hotels?\n",
    "\n",
    "\n",
    "Let's get the most frequently observed words from the *positive reviews* and *negative reviews*, respectively, to see the difference, if any."
   ]
  },
  {
   "cell_type": "code",
   "execution_count": 21,
   "metadata": {
    "collapsed": true
   },
   "outputs": [],
   "source": [
    "#Add possible Stop Words for Hotel Reviews\n",
    "stop.add('hotel')\n",
    "stop.add('room')\n",
    "stop.add('rooms')\n",
    "stop.add('stay')\n",
    "stop.add('staff')\n",
    "stop.add('ontario')\n",
    "stop.add('hampton')"
   ]
  },
  {
   "cell_type": "code",
   "execution_count": 22,
   "metadata": {},
   "outputs": [],
   "source": [
    "#To find out the most frequent word in review when the ground truth is positive\n",
    "counter = Counter()\n",
    "for review in hotelDf.loc[hotelDf['groundTruth']=='positive']['review']:\n",
    "        counter.update([word.lower() for word in re.findall(r'\\w+', review) if word.lower() not in stop and len(word) > 2])\n",
    "\n",
    "counter = Counter()   \n",
    "#To find out the most frequent word in review when the ground truth is negative\n",
    "for review in hotelDf.loc[hotelDf['groundTruth']=='negative']['review']:\n",
    "        counter.update([word.lower() for word in re.findall(r'\\w+', review) if word.lower() not in stop and len(word) > 2])"
   ]
  },
  {
   "cell_type": "markdown",
   "metadata": {},
   "source": [
    "#### Top 10 Words with High Frequency in *Positive* and *Negative* reviews."
   ]
  },
  {
   "cell_type": "code",
   "execution_count": 23,
   "metadata": {},
   "outputs": [
    {
     "name": "stdout",
     "output_type": "stream",
     "text": [
      "The most frequently occured top 10 words in positive reviews\n",
      "[('would', 1122),\n",
      " ('one', 876),\n",
      " ('night', 744),\n",
      " ('breakfast', 701),\n",
      " ('front', 694),\n",
      " ('get', 687),\n",
      " ('desk', 678),\n",
      " ('good', 664),\n",
      " ('pool', 638),\n",
      " ('time', 600)]\n",
      "\n",
      "The most frequently occured top 10 words in negative reviews\n",
      "[('would', 1122),\n",
      " ('one', 876),\n",
      " ('night', 744),\n",
      " ('breakfast', 701),\n",
      " ('front', 694),\n",
      " ('get', 687),\n",
      " ('desk', 678),\n",
      " ('good', 664),\n",
      " ('pool', 638),\n",
      " ('time', 600)]\n"
     ]
    }
   ],
   "source": [
    "from pprint import pprint\n",
    "k = 10\n",
    "topkPos = counter.most_common(k)\n",
    "topkNeg = counter.most_common(k)\n",
    "print(\"The most frequently occured top 10 words in positive reviews\")\n",
    "pprint(topkPos)\n",
    "print(\"\\nThe most frequently occured top 10 words in negative reviews\")\n",
    "pprint(topkNeg)"
   ]
  },
  {
   "cell_type": "markdown",
   "metadata": {},
   "source": [
    "### Uh.. almost same?\n",
    "It seems like the term frequency doesn't tell us anything about the text. We can observe that there is no difference between the top-k word list for both positive reviews and negative reviews.\n",
    "\n",
    "If we think about it, this result seems obvious. If a customer was really satistied with breakfast, they would mention the word, 'breakfast', in their review. Even if a customer didn't like their breakfast, they also would mention the word, 'breakfast', in their review (with some bad words)."
   ]
  },
  {
   "cell_type": "markdown",
   "metadata": {
    "collapsed": true
   },
   "source": [
    "### 2. Mutual Information"
   ]
  },
  {
   "cell_type": "markdown",
   "metadata": {},
   "source": [
    "**Mutual information tells you how much you learn about X from knowing the value of Y (on average over the choice of Y).** \n",
    "\n",
    "\n",
    "Since we found the word frequency is not a good indicator for the sentiment analysis, we will examine *mutual information*  for an alternative metric.\n",
    "\n",
    "http://scikit-learn.org/stable/modules/generated/sklearn.metrics.mutual_info_score.html"
   ]
  },
  {
   "cell_type": "code",
   "execution_count": 24,
   "metadata": {
    "collapsed": true
   },
   "outputs": [],
   "source": [
    "# positive = 1 / negative = 0\n",
    "gtScore = []\n",
    "for i in range(len(finaldf)):\n",
    "    if finaldf['groundTruth'][i] == 'positive':\n",
    "        gtScore.append(1)\n",
    "    else:\n",
    "        gtScore.append(0)"
   ]
  },
  {
   "cell_type": "code",
   "execution_count": 25,
   "metadata": {},
   "outputs": [
    {
     "ename": "NameError",
     "evalue": "name 'miScoredf' is not defined",
     "output_type": "error",
     "traceback": [
      "\u001b[0;31m---------------------------------------------------------------------------\u001b[0m",
      "\u001b[0;31mNameError\u001b[0m                                 Traceback (most recent call last)",
      "\u001b[0;32m<ipython-input-25-19f34827ffe4>\u001b[0m in \u001b[0;36m<module>\u001b[0;34m()\u001b[0m\n\u001b[1;32m      3\u001b[0m miScoreDf = pd.DataFrame(data = {'word': wordList,\n\u001b[1;32m      4\u001b[0m              'MI Score': [mutual_info_score(gtScore, finaldf[word].as_matrix()) for word in wordList]})\n\u001b[0;32m----> 5\u001b[0;31m \u001b[0mmiScoredf\u001b[0m\u001b[0;34m.\u001b[0m\u001b[0mhead\u001b[0m\u001b[0;34m(\u001b[0m\u001b[0;36m10\u001b[0m\u001b[0;34m)\u001b[0m\u001b[0;34m\u001b[0m\u001b[0m\n\u001b[0m",
      "\u001b[0;31mNameError\u001b[0m: name 'miScoredf' is not defined"
     ]
    }
   ],
   "source": [
    "#Calculate muual information score using scikit-learn package\n",
    "wordList = [word[0] for word in topk]\n",
    "miScoreDf = pd.DataFrame(data = {'word': wordList,\n",
    "             'MI Score': [mutual_info_score(gtScore, finaldf[word].as_matrix()) for word in wordList]})\n",
    "miScoredf.head(10)"
   ]
  },
  {
   "cell_type": "markdown",
   "metadata": {},
   "source": [
    "### What does it mean?\n",
    "If we observe words having high Mutual Information scores in a review, we would learn a lot about the sentiment of review, (positive or negative)."
   ]
  },
  {
   "cell_type": "markdown",
   "metadata": {},
   "source": [
    "###  3. Pointwise Mutual Information"
   ]
  },
  {
   "cell_type": "markdown",
   "metadata": {},
   "source": [
    "Similar to MI, PMI is measuring for sigle event where MI is the average of all possible event.\n",
    "\n",
    "The events P(x,y) = P(0,1) means the event of the review is negative but the specific word is existing in that review"
   ]
  },
  {
   "cell_type": "markdown",
   "metadata": {},
   "source": [
    "#### Let's see how Pointwise Mutual Information calculated. The PMI of a pair of outcomes x and y belonging to discrete random variables X and Y quantifies the discrepancy between the probability of their coincidence given their joint distribution and their individual distributions, assuming independence.\n",
    "#### To study more about Pointwise Mutual Information, see [Wikipedia](https://en.wikipedia.org/wiki/Pointwise_mutual_information) "
   ]
  },
  {
   "cell_type": "markdown",
   "metadata": {},
   "source": [
    "![image](https://wikimedia.org/api/rest_v1/media/math/render/svg/ff54cfce726857db855d4dd0a9dee2c6a5e7be99)"
   ]
  },
  {
   "cell_type": "code",
   "execution_count": null,
   "metadata": {
    "collapsed": true
   },
   "outputs": [],
   "source": [
    "# Define functions to calculate pmi\n",
    "def getpmiDf(df, x):\n",
    "    pmilist=[]\n",
    "    \n",
    "    for i in ['positive','negative']:\n",
    "        for j in [0,1]:\n",
    "            px = sum(finaldf['groundTruth'] == i) / len(df)\n",
    "            py = sum(finaldf[x] == j) / len(df)\n",
    "            pxy = len(finaldf[(finaldf['groundTruth']==i) & (finaldf[x]==j)])/len(df)\n",
    "            \n",
    "            if pxy == 0:  # value\n",
    "                pmi = math.log10((pxy+0.0001) / (px*py))\n",
    "                \n",
    "            else:\n",
    "                pmi = math.log10(pxy / (px * py))\n",
    "                \n",
    "            pmilist.append([i] + [j] + [px] + [py] + [pxy] + [pmi])\n",
    "            \n",
    "    pmidf = pd.DataFrame(pmilist)\n",
    "    pmidf.columns = ['x','y','px','py','pxy','pmi']\n",
    "    return pmidf\n",
    "\n",
    "def getPMI(df, x, gt):\n",
    "    '''\n",
    "    - Input\n",
    "      df: pandas dataframe\n",
    "      x: hotel name. a string\n",
    "      gt: target label. 1 or 0 integer values \n",
    "    \n",
    "    - Output\n",
    "      pointwise mutual information. float\n",
    "    '''\n",
    "    px = sum(finaldf['groundTruth'] == gt) / len(df)\n",
    "    py = sum(finaldf[x] == 1) / len(df)\n",
    "    pxy = len(finaldf[(finaldf['groundTruth'] == gt) & (finaldf[x] == 1)]) / len(df)\n",
    "    \n",
    "    if pxy == 0:\n",
    "        pmi = math.log10((pxy + 0.0001) / (px * py))\n",
    "    else:\n",
    "        pmi = math.log10(pxy / (px * py))\n",
    "        \n",
    "    return pmi"
   ]
  },
  {
   "cell_type": "code",
   "execution_count": null,
   "metadata": {},
   "outputs": [],
   "source": [
    "getpmiDf(finaldf, 'dirty')"
   ]
  },
  {
   "cell_type": "markdown",
   "metadata": {},
   "source": [
    "From the table above, we can see the word, 'dirty', has negatively correlated with 'positive' label because the pmi value for 'positive' label is the smallest value (-0.69) among the four values."
   ]
  },
  {
   "cell_type": "code",
   "execution_count": null,
   "metadata": {
    "scrolled": true
   },
   "outputs": [],
   "source": [
    "pmiPosDf = pd.DataFrame(data = {'word': wordList,\n",
    "                             'pmiPositive': [getPMI(finaldf, word, 'positive') for word in wordList]})\n",
    "pmiNegDf = pd.DataFrame(data = {'word': wordList,\n",
    "                             'pmiNegative': [getPMI(finaldf, word, 'negative') for word in wordList]})"
   ]
  },
  {
   "cell_type": "code",
   "execution_count": null,
   "metadata": {
    "scrolled": true
   },
   "outputs": [],
   "source": [
    "#Sorted top pmi words for positive reviews\n",
    "pmiPosDf = pmiPosDf.sort_values('pmiPositive',ascending=0)\n",
    "pmiPosDf.head(10)"
   ]
  },
  {
   "cell_type": "code",
   "execution_count": null,
   "metadata": {},
   "outputs": [],
   "source": [
    "#Sorted top pmi words for negative reviews\n",
    "pmiNegDf = pmiNegDf.sort_values('pmiNegative',ascending=0)\n",
    "pmiNegDf.head(10)"
   ]
  },
  {
   "cell_type": "code",
   "execution_count": null,
   "metadata": {
    "scrolled": false
   },
   "outputs": [],
   "source": [
    "pmiPosDf.head(10).plot.bar(x='word', rot=40, color='b', title='Top 10 words in Positive Reviews based on PMI scores')\n",
    "pmiNegDf.head(10).plot.bar(x='word', rot=40, color='r', title='Top 10 words in Negative Reviews based on PMI scores')\n",
    "plt.show()"
   ]
  },
  {
   "cell_type": "markdown",
   "metadata": {
    "collapsed": true
   },
   "source": [
    "### Pointwise Mutual Information seems like a good metric to summarize the reviews in n-gram tokens!"
   ]
  },
  {
   "cell_type": "markdown",
   "metadata": {},
   "source": [
    "# Visualization\n",
    "Sometimes, we can learn a lot about the data by visualizing."
   ]
  },
  {
   "cell_type": "markdown",
   "metadata": {},
   "source": [
    "## Historgrams"
   ]
  },
  {
   "cell_type": "code",
   "execution_count": null,
   "metadata": {
    "scrolled": false
   },
   "outputs": [],
   "source": [
    "plt.xlabel('Rating Score')\n",
    "finaldf['ratingScore'].plot(kind='hist', title='Histogram - Rating Scores',\n",
    "                            bins=np.arange(1,7)-0.5)\n",
    "plt.show()"
   ]
  },
  {
   "cell_type": "code",
   "execution_count": null,
   "metadata": {},
   "outputs": [],
   "source": [
    "plt.xlabel('Vader Sentiment Score')\n",
    "finaldf['vaderScore'].plot(kind='hist', title='Histogram - Vader Scores', \n",
    "                           xticks=[-1.0, -0.5, 0.0, 0.5, 1.0])\n",
    "plt.show()"
   ]
  },
  {
   "cell_type": "code",
   "execution_count": null,
   "metadata": {},
   "outputs": [],
   "source": [
    "#Overlayed Histogram for GT rating and VD score\n",
    "#Just for demonstrating, I am dividing the rating score by 5\n",
    "x = [finaldf['ratingScore'].as_matrix() / 5]\n",
    "y = [(finaldf['vaderScore'].as_matrix() + 1 )/ 2]\n",
    "bins = np.linspace(0, 1, 100)\n",
    "plt.hist(x, bins, label='Rescaled True Ratings')\n",
    "plt.hist(y, bins, label='Rescaled Vader Scores')\n",
    "plt.legend(loc='upper left')\n",
    "plt.show()"
   ]
  },
  {
   "cell_type": "markdown",
   "metadata": {},
   "source": [
    "## Boxplots"
   ]
  },
  {
   "cell_type": "code",
   "execution_count": null,
   "metadata": {
    "scrolled": false
   },
   "outputs": [],
   "source": [
    "#Plot top 5 side-by-side boxplot for top 5 ground truth rated hotel\n",
    "tp5gthotel = ratingByHotel.sort_values('ratingScore', ascending=False).head(5).hotelName.as_matrix()\n",
    "\n",
    "tempdf = finaldf[(finaldf.hotelName == tp5gthotel[0]) | (finaldf.hotelName == tp5gthotel[1]) | \n",
    "         (finaldf.hotelName == tp5gthotel[2]) | (finaldf.hotelName == tp5gthotel[3]) | \n",
    "         (finaldf.hotelName == tp5gthotel[4])]"
   ]
  },
  {
   "cell_type": "code",
   "execution_count": null,
   "metadata": {},
   "outputs": [],
   "source": [
    "g = sns.factorplot(kind='box',        # Boxplot\n",
    "               y='ratingScore',       # Y-axis - values for boxplot\n",
    "               x='hotelName',        # X-axis - first factor\n",
    "               data=tempdf,        # Dataframe \n",
    "               size=6,            # Figure size (x100px)      \n",
    "               aspect=1.5,        # Width = size * aspect \n",
    "               legend_out=False)  # Make legend inside the plot\n",
    "\n",
    "for ax in g.axes.flat:\n",
    "    labels = ax.get_xticklabels() # get x labels\n",
    "    ax.set_xticklabels(labels, rotation=30) # set new labels\n",
    "    \n",
    "plt.show()"
   ]
  },
  {
   "cell_type": "code",
   "execution_count": null,
   "metadata": {},
   "outputs": [],
   "source": [
    "g = sns.factorplot(kind='box',        # Boxplot\n",
    "               y='vaderScore',       # Y-axis - values for boxplot\n",
    "               x='hotelName',        # X-axis - first factor\n",
    "               data=tempdf,        # Dataframe \n",
    "               size=6,            # Figure size (x100px)      \n",
    "               aspect=1.5,        # Width = size * aspect \n",
    "               legend_out=False)  # Make legend inside the plot\n",
    "\n",
    "for ax in g.axes.flat:\n",
    "    labels = ax.get_xticklabels() # get x labels\n",
    "    ax.set_xticklabels(labels, rotation=30) # set new labels\n",
    "    \n",
    "plt.show()"
   ]
  },
  {
   "cell_type": "markdown",
   "metadata": {},
   "source": [
    "## Scatterplots"
   ]
  },
  {
   "cell_type": "code",
   "execution_count": null,
   "metadata": {},
   "outputs": [],
   "source": [
    "y = finaldf['ratingScore'].as_matrix()\n",
    "x = finaldf['vaderScore'].as_matrix()\n",
    "plt.title('Vader score vs. True Ratings')\n",
    "plt.xlabel('Vader Scores')\n",
    "plt.ylabel('True Ratings')\n",
    "plt.xticks([-1, -0.5, 0, 0.5, 1])\n",
    "plt.yticks([1,2,3,4,5])\n",
    "plt.plot(x, y, \"o\", ms=3, color='b')\n",
    "plt.show()"
   ]
  },
  {
   "cell_type": "code",
   "execution_count": null,
   "metadata": {
    "collapsed": true
   },
   "outputs": [],
   "source": []
  }
 ],
 "metadata": {
  "anaconda-cloud": {},
  "kernelspec": {
   "display_name": "Python 3",
   "language": "python",
   "name": "python3"
  },
  "language_info": {
   "codemirror_mode": {
    "name": "ipython",
    "version": 3
   },
   "file_extension": ".py",
   "mimetype": "text/x-python",
   "name": "python",
   "nbconvert_exporter": "python",
   "pygments_lexer": "ipython3",
   "version": "3.6.3"
  }
 },
 "nbformat": 4,
 "nbformat_minor": 1
}
